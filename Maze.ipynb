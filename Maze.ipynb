{
 "cells": [
  {
   "cell_type": "code",
   "execution_count": 138,
   "metadata": {},
   "outputs": [],
   "source": [
    "import numpy as np\n",
    "import numpy.linalg as LA\n",
    "import random\n",
    "import pandas as pd\n",
    "from tqdm import tqdm\n",
    "import matplotlib.pyplot as plt\n",
    "from PIL import Image"
   ]
  },
  {
   "cell_type": "code",
   "execution_count": 215,
   "metadata": {},
   "outputs": [
    {
     "name": "stdout",
     "output_type": "stream",
     "text": [
      "   0  1  2  3  4  5  6  7  8  9\n",
      "0  E  W  E  E  E  E  E  W  E  E\n",
      "1  E  W  E  E  E  E  E  W  E  E\n",
      "2  E  W  E  E  E  E  E  W  E  E\n",
      "3  E  E  E  E  E  E  E  W  E  E\n",
      "4  W  W  W  W  E  E  E  W  E  E\n",
      "5  E  E  E  E  E  E  E  W  E  E\n",
      "6  E  E  E  E  E  E  E  W  E  E\n",
      "7  W  W  W  E  W  W  W  E  E  E\n",
      "8  E  E  E  E  E  E  E  E  E  E\n",
      "9  E  E  E  E  E  E  E  E  E  D\n"
     ]
    }
   ],
   "source": [
    "rows_count = 10\n",
    "columns_count = 10\n",
    "terminating = [(rows_count-1, columns_count-1)]\n",
    "DOOR = \"D\"\n",
    "START = \"S\"\n",
    "EMPTY = \"E\"\n",
    "WALL = \"W\"\n",
    "KEYS = \"K\"\n",
    "\n",
    "def generateTestMaze():\n",
    "    V = pd.DataFrame(index=range(rows_count), columns=range(columns_count))\n",
    "    for i in range(rows_count):\n",
    "        for j in range(columns_count):\n",
    "            V.iloc[i][j] = EMPTY\n",
    "    V.iloc[0][1] = WALL\n",
    "    V.iloc[1][1] = WALL\n",
    "    V.iloc[2][1] = WALL\n",
    "    \n",
    "    V.iloc[4][0] = WALL\n",
    "    V.iloc[4][1] = WALL\n",
    "    V.iloc[4][2] = WALL\n",
    "    V.iloc[4][3] = WALL\n",
    "    \n",
    "    V.iloc[7][0] = WALL\n",
    "    V.iloc[7][1] = WALL\n",
    "    V.iloc[7][2] = WALL\n",
    "    V.iloc[7][4] = WALL\n",
    "    V.iloc[7][5] = WALL\n",
    "    V.iloc[7][6] = WALL\n",
    "    \n",
    "    V.iloc[0][7] = WALL\n",
    "    V.iloc[1][7] = WALL\n",
    "    V.iloc[2][7] = WALL\n",
    "    V.iloc[3][7] = WALL\n",
    "    V.iloc[4][7] = WALL\n",
    "    V.iloc[5][7] = WALL\n",
    "    V.iloc[6][7] = WALL\n",
    "    \n",
    "\n",
    "    V.iloc[rows_count-1][columns_count-1] = DOOR\n",
    "    return V\n",
    "    \n",
    "\n",
    "Maze = generateTestMaze()\n",
    "print(Maze)"
   ]
  },
  {
   "cell_type": "code",
   "execution_count": 216,
   "metadata": {
    "scrolled": false
   },
   "outputs": [
    {
     "name": "stdout",
     "output_type": "stream",
     "text": [
      "(100, 40, 40, 3)\n"
     ]
    },
    {
     "data": {
      "image/png": "[encoded data removed]",
      "text/plain": [
       "<Figure size 432x288 with 1 Axes>"
      ]
     },
     "metadata": {},
     "output_type": "display_data"
    }
   ],
   "source": [
    "def arrayToImage(array, ncols=10):\n",
    "    nindex, height, width, intensity = array.shape\n",
    "    nrows = nindex//ncols\n",
    "    assert nindex == nrows*ncols\n",
    "    # want result.shape = (height*nrows, width*ncols, intensity)\n",
    "    result = (array.reshape(nrows, ncols, height, width, intensity)\n",
    "              .swapaxes(1,2)\n",
    "              .reshape(height*nrows, width*ncols, intensity))\n",
    "    return result\n",
    "\n",
    "\n",
    "def make_array(dataframe):\n",
    "    imageArray = np.array([np.asarray(Image.open('images/empty.jpg').convert('RGB'))])\n",
    "    for i in range(rows_count):\n",
    "        for j in range(columns_count):\n",
    "            #skip the first cell, since we already add it in the begining\n",
    "            if (i!=0) or (j!=0):                \n",
    "                path = \"images/empty.jpg\"\n",
    "                if dataframe.iloc()[i][j] == \"W\":\n",
    "                    path = \"images/wall.jpg\"\n",
    "                imageArray = np.append(imageArray, [np.asarray(Image.open(path).convert('RGB'))], axis=0)\n",
    "    return imageArray\n",
    "\n",
    "array = make_array(Maze)\n",
    "print(array.shape)\n",
    "result = arrayToImage(array)\n",
    "plt.imshow(result)\n",
    "plt.axis('off')\n",
    "plt.show()"
   ]
  },
  {
   "cell_type": "code",
   "execution_count": 217,
   "metadata": {
    "collapsed": true
   },
   "outputs": [],
   "source": [
    "gamma = 1\n",
    "alpha = 0.2\n",
    "episode = 10000\n",
    "maxStep = 6000\n",
    "epsilon = 0.5\n",
    "\n",
    "def epsilon_greedy(Q, epsilon, row, column):\n",
    "    if np.random.rand() < epsilon:\n",
    "        actIndex = Q.iloc()[row][column].index(max(Q.iloc()[row][column]))        \n",
    "    else:\n",
    "        actIndex = random.choice([UP, DOWN, LEFT, RIGHT])    \n",
    "    \n",
    "    return actIndex\n",
    "\n",
    "def valueForMaze(row, column, action, Maze):    \n",
    "    if (row,column) in terminating:\n",
    "        return 0, 0, 0    \n",
    "    else:\n",
    "        if column in wingOneCol:\n",
    "            row = row - 1\n",
    "        elif column in wingTwoCol:\n",
    "            row = row - 2\n",
    "            \n",
    "        if (action == UP):            \n",
    "            return stepcost, max(row-1, 0), column\n",
    "        elif (action == DOWN) :         \n",
    "            return stepcost, max(min(row+1, rows_count-1),0), column\n",
    "        elif (action == LEFT) :\n",
    "            return stepcost, max(row, 0), max(column-1, 0)\n",
    "        elif (action == RIGHT) :\n",
    "            return stepcost, max(row,0), min(column+1, columns_count-1)\n",
    "\n",
    "#Initialize Q(s,a):\n",
    "Q = pd.DataFrame(index=range(rows_count), columns=range(columns_count))\n",
    "for i in range(rows_count):\n",
    "    for j in range (columns_count):\n",
    "        Q.iloc()[i][j] = [0, 0, 0, 0]\n",
    "\n",
    "for i in tqdm(range(episode)):\n",
    "    #initialize stage S:        \n",
    "    row = random.randint(0, rows_count-1)\n",
    "    column = random.randint(0, columns_count-1)\n",
    "    step = 1\n",
    "    #Choose action A from state S using policy derived from Q (e.g., epsilon-greedy)\n",
    "    action = epsilon_greedy(Q, epsilon, row, column)\n",
    "    \n",
    "    while(True):\n",
    "        #Until S is terminal\n",
    "        if (row,column) in terminating:\n",
    "            break\n",
    "        \n",
    "        #Take action A, observe R (reward) and new state S':\n",
    "        reward, newRow, newColumn = valueForWW(row, column, action)\n",
    "        \n",
    "        #Choose action A' from state S' using policy derived from Q (e.g., epsilon-greedy)\n",
    "        newAction = epsilon_greedy(Q, epsilon, newRow, newColumn)        \n",
    "        \n",
    "        #Q(S,A) <- Q(S,A) + alpha*[R + gamma*Q(S',A') - Q(S,A)]\n",
    "        Q.iloc()[row][column][action] = Q.iloc()[row][column][action] +\\\n",
    "            alpha*(reward + gamma*Q.iloc()[newRow][newColumn][newAction] - Q.iloc()[row][column][action])\n",
    "        row = newRow\n",
    "        column = newColumn\n",
    "        action = newAction\n",
    "        step+=1\n"
   ]
  }
 ],
 "metadata": {
  "kernelspec": {
   "display_name": "Python 3",
   "language": "python",
   "name": "python3"
  },
  "language_info": {
   "codemirror_mode": {
    "name": "ipython",
    "version": 3
   },
   "file_extension": ".py",
   "mimetype": "text/x-python",
   "name": "python",
   "nbconvert_exporter": "python",
   "pygments_lexer": "ipython3",
   "version": "3.6.6"
  }
 },
 "nbformat": 4,
 "nbformat_minor": 2
}
